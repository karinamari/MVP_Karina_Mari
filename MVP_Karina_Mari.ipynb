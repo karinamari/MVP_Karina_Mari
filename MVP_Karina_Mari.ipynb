{
  "nbformat": 4,
  "nbformat_minor": 0,
  "metadata": {
    "colab": {
      "provenance": []
    },
    "kernelspec": {
      "name": "python3",
      "display_name": "Python 3"
    },
    "language_info": {
      "name": "python"
    }
  },
  "cells": [
    {
      "cell_type": "markdown",
      "metadata": {
        "id": "f6dab859"
      },
      "source": [
        "\n",
        "# MVP: *Machine Learning & Analytics*\n",
        "**Autor:** _Karina Mari Nishida_  \n",
        "\n",
        "**Data:** 28/09/2025\n",
        "\n",
        "**Matrícula:**\n",
        "\n",
        "**Dataset:** [Loan Default Prediction Dataset](https://www.kaggle.com/datasets/kmldas/loan-default-prediction?resource=download)\n",
        "\n",
        "---"
      ]
    },
    {
      "cell_type": "markdown",
      "metadata": {
        "id": "a670b1e8"
      },
      "source": [
        "\n",
        "\n",
        "> Adicionar aspas\n",
        "\n",
        "\n",
        "## 1. Escopo e Definição do Problema\n",
        "Contexto e Objetivo: O projeto visa prever a aprovação de financiamento para transformar a abordagem de vendas em um modelo consultivo. A intenção é direcionar proativamente o cliente a opções de veículos e modalidades de compra adequadas ao seu perfil, aumentando a taxa de conversão e a satisfação ao evitar a frustração de uma recusa de crédito.\n",
        "\n",
        "Tipo de Tarefa: Classificação Supervisionada. O objetivo é prever uma categoria discreta: se um cliente terá o financiamento \"aprovado\" (Classe 0) ou \"reprovado\" (Classe 1).\n",
        "\n",
        "Área de Aplicação: Dados Tabulares. O modelo será treinado a partir de um conjunto de dados estruturado em linhas (clientes) e colunas (atributos), proveniente de um arquivo .csv.\n",
        "\n",
        "Valor para o Negócio: A implementação deste modelo busca gerar valor através de três pontos principais:\n",
        "\n",
        "> Aumento da Taxa de Conversão: Ao direcionar clientes para propostas realistas.\n",
        "\n",
        "> Otimização da Equipe de Vendas: Focando o tempo dos especialistas nos leads com maior potencial.\n",
        "\n",
        "> Melhora na Experiência do Cliente: Reduzindo a frustração com recusas de crédito."
      ]
    },
    {
      "cell_type": "markdown",
      "source": [
        "## 2. Preparação do Ambiente"
      ],
      "metadata": {
        "id": "PCIRRvaCX9xd"
      }
    },
    {
      "cell_type": "code",
      "source": [
        "# Configuração para não exibir os warnings\n",
        "import warnings\n",
        "warnings.filterwarnings('ignore')\n",
        "\n",
        "# Imports necessários\n",
        "import pandas as pd\n",
        "import numpy as np\n",
        "import matplotlib.pyplot as plt\n",
        "import seaborn as sns\n",
        "import joblib\n",
        "import os, random, time, sys, math\n",
        "import kagglehub\n",
        "from kagglehub import KaggleDatasetAdapter\n",
        "file_path = \"Default_Fin.csv\"\n",
        "from sklearn.model_selection import KFold # para preparar os folds da validação cruzada\n",
        "\n",
        "from sklearn.ensemble import ExtraTreesClassifier # Extrastrees, para a Importância de Atributos\n",
        "from sklearn.feature_selection import SelectKBest # para a Seleção Univariada\n",
        "from sklearn.feature_selection import f_classif # para o teste ANOVA da Seleção Univariada\n",
        "from sklearn.feature_selection import RFE # para a Eliminação Recursiva de Atributos\n",
        "from sklearn.linear_model import LogisticRegression # Regressão Logística, para a Eliminação Recursiva de Atributos\n",
        "from sklearn.preprocessing import StandardScaler\n",
        "from sklearn.preprocessing import MinMaxScaler\n",
        "from sklearn.model_selection import train_test_split\n",
        "from sklearn.model_selection import KFold\n",
        "from sklearn.model_selection import StratifiedKFold\n",
        "from sklearn.model_selection import cross_val_score\n",
        "from sklearn.model_selection import GridSearchCV\n",
        "from sklearn.metrics import accuracy_score\n",
        "from sklearn.pipeline import Pipeline\n",
        "from sklearn.linear_model import LogisticRegression\n",
        "from sklearn.tree import DecisionTreeClassifier\n",
        "from sklearn.neighbors import KNeighborsClassifier\n",
        "from sklearn.naive_bayes import GaussianNB\n",
        "from sklearn.svm import SVC\n",
        "from sklearn.ensemble import BaggingClassifier\n",
        "from sklearn.ensemble import RandomForestClassifier\n",
        "from sklearn.ensemble import ExtraTreesClassifier\n",
        "from sklearn.ensemble import VotingClassifier\n",
        "from sklearn.ensemble import AdaBoostClassifier\n",
        "from sklearn.ensemble import GradientBoostingClassifier\n",
        "from sklearn.model_selection import StratifiedKFold, RandomizedSearchCV\n",
        "from scipy.stats import randint\n",
        "from sklearn.metrics import classification_report, ConfusionMatrixDisplay\n",
        "\n",
        "SEED = 42\n",
        "np.random.seed(SEED)\n",
        "random.seed(SEED)\n",
        "\n",
        "print(\"Python:\", sys.version.split()[0])\n",
        "print(\"Seed global:\", SEED)"
      ],
      "metadata": {
        "id": "GydkBWVvX9Ll",
        "colab": {
          "base_uri": "https://localhost:8080/"
        },
        "outputId": "4577c45d-dff1-47d4-a3f2-b67ca5eb30f1"
      },
      "execution_count": null,
      "outputs": [
        {
          "output_type": "stream",
          "name": "stdout",
          "text": [
            "Python: 3.12.11\n",
            "Seed global: 42\n"
          ]
        }
      ]
    },
    {
      "cell_type": "markdown",
      "metadata": {
        "id": "ad1d8aa8"
      },
      "source": [
        "\n",
        "## 3. Dados: carga, entendimento e qualidade\n",
        "Os dados são públicos e tem origem da plataforma Kaggle sobre inadimplência bancária.\n"
      ]
    },
    {
      "cell_type": "code",
      "execution_count": null,
      "metadata": {
        "colab": {
          "base_uri": "https://localhost:8080/",
          "height": 225
        },
        "id": "bS_zypQdNxtb",
        "outputId": "174438ee-56c3-4ab4-ba0f-852fb903bcb5"
      },
      "outputs": [
        {
          "output_type": "stream",
          "name": "stdout",
          "text": [
            "Using Colab cache for faster access to the 'loan-default-prediction' dataset.\n"
          ]
        },
        {
          "output_type": "execute_result",
          "data": {
            "text/plain": [
              "   Index  Employed  Bank Balance  Annual Salary  Defaulted?\n",
              "0      1         1       8754.36      532339.56           0\n",
              "1      2         0       9806.16      145273.56           0\n",
              "2      3         1      12882.60      381205.68           0\n",
              "3      4         1       6351.00      428453.88           0\n",
              "4      5         1       9427.92      461562.00           0"
            ],
            "text/html": [
              "\n",
              "  <div id=\"df-648a128e-2f5f-4ce3-8dee-033529614c4d\" class=\"colab-df-container\">\n",
              "    <div>\n",
              "<style scoped>\n",
              "    .dataframe tbody tr th:only-of-type {\n",
              "        vertical-align: middle;\n",
              "    }\n",
              "\n",
              "    .dataframe tbody tr th {\n",
              "        vertical-align: top;\n",
              "    }\n",
              "\n",
              "    .dataframe thead th {\n",
              "        text-align: right;\n",
              "    }\n",
              "</style>\n",
              "<table border=\"1\" class=\"dataframe\">\n",
              "  <thead>\n",
              "    <tr style=\"text-align: right;\">\n",
              "      <th></th>\n",
              "      <th>Index</th>\n",
              "      <th>Employed</th>\n",
              "      <th>Bank Balance</th>\n",
              "      <th>Annual Salary</th>\n",
              "      <th>Defaulted?</th>\n",
              "    </tr>\n",
              "  </thead>\n",
              "  <tbody>\n",
              "    <tr>\n",
              "      <th>0</th>\n",
              "      <td>1</td>\n",
              "      <td>1</td>\n",
              "      <td>8754.36</td>\n",
              "      <td>532339.56</td>\n",
              "      <td>0</td>\n",
              "    </tr>\n",
              "    <tr>\n",
              "      <th>1</th>\n",
              "      <td>2</td>\n",
              "      <td>0</td>\n",
              "      <td>9806.16</td>\n",
              "      <td>145273.56</td>\n",
              "      <td>0</td>\n",
              "    </tr>\n",
              "    <tr>\n",
              "      <th>2</th>\n",
              "      <td>3</td>\n",
              "      <td>1</td>\n",
              "      <td>12882.60</td>\n",
              "      <td>381205.68</td>\n",
              "      <td>0</td>\n",
              "    </tr>\n",
              "    <tr>\n",
              "      <th>3</th>\n",
              "      <td>4</td>\n",
              "      <td>1</td>\n",
              "      <td>6351.00</td>\n",
              "      <td>428453.88</td>\n",
              "      <td>0</td>\n",
              "    </tr>\n",
              "    <tr>\n",
              "      <th>4</th>\n",
              "      <td>5</td>\n",
              "      <td>1</td>\n",
              "      <td>9427.92</td>\n",
              "      <td>461562.00</td>\n",
              "      <td>0</td>\n",
              "    </tr>\n",
              "  </tbody>\n",
              "</table>\n",
              "</div>\n",
              "    <div class=\"colab-df-buttons\">\n",
              "\n",
              "  <div class=\"colab-df-container\">\n",
              "    <button class=\"colab-df-convert\" onclick=\"convertToInteractive('df-648a128e-2f5f-4ce3-8dee-033529614c4d')\"\n",
              "            title=\"Convert this dataframe to an interactive table.\"\n",
              "            style=\"display:none;\">\n",
              "\n",
              "  <svg xmlns=\"http://www.w3.org/2000/svg\" height=\"24px\" viewBox=\"0 -960 960 960\">\n",
              "    <path d=\"M120-120v-720h720v720H120Zm60-500h600v-160H180v160Zm220 220h160v-160H400v160Zm0 220h160v-160H400v160ZM180-400h160v-160H180v160Zm440 0h160v-160H620v160ZM180-180h160v-160H180v160Zm440 0h160v-160H620v160Z\"/>\n",
              "  </svg>\n",
              "    </button>\n",
              "\n",
              "  <style>\n",
              "    .colab-df-container {\n",
              "      display:flex;\n",
              "      gap: 12px;\n",
              "    }\n",
              "\n",
              "    .colab-df-convert {\n",
              "      background-color: #E8F0FE;\n",
              "      border: none;\n",
              "      border-radius: 50%;\n",
              "      cursor: pointer;\n",
              "      display: none;\n",
              "      fill: #1967D2;\n",
              "      height: 32px;\n",
              "      padding: 0 0 0 0;\n",
              "      width: 32px;\n",
              "    }\n",
              "\n",
              "    .colab-df-convert:hover {\n",
              "      background-color: #E2EBFA;\n",
              "      box-shadow: 0px 1px 2px rgba(60, 64, 67, 0.3), 0px 1px 3px 1px rgba(60, 64, 67, 0.15);\n",
              "      fill: #174EA6;\n",
              "    }\n",
              "\n",
              "    .colab-df-buttons div {\n",
              "      margin-bottom: 4px;\n",
              "    }\n",
              "\n",
              "    [theme=dark] .colab-df-convert {\n",
              "      background-color: #3B4455;\n",
              "      fill: #D2E3FC;\n",
              "    }\n",
              "\n",
              "    [theme=dark] .colab-df-convert:hover {\n",
              "      background-color: #434B5C;\n",
              "      box-shadow: 0px 1px 3px 1px rgba(0, 0, 0, 0.15);\n",
              "      filter: drop-shadow(0px 1px 2px rgba(0, 0, 0, 0.3));\n",
              "      fill: #FFFFFF;\n",
              "    }\n",
              "  </style>\n",
              "\n",
              "    <script>\n",
              "      const buttonEl =\n",
              "        document.querySelector('#df-648a128e-2f5f-4ce3-8dee-033529614c4d button.colab-df-convert');\n",
              "      buttonEl.style.display =\n",
              "        google.colab.kernel.accessAllowed ? 'block' : 'none';\n",
              "\n",
              "      async function convertToInteractive(key) {\n",
              "        const element = document.querySelector('#df-648a128e-2f5f-4ce3-8dee-033529614c4d');\n",
              "        const dataTable =\n",
              "          await google.colab.kernel.invokeFunction('convertToInteractive',\n",
              "                                                    [key], {});\n",
              "        if (!dataTable) return;\n",
              "\n",
              "        const docLinkHtml = 'Like what you see? Visit the ' +\n",
              "          '<a target=\"_blank\" href=https://colab.research.google.com/notebooks/data_table.ipynb>data table notebook</a>'\n",
              "          + ' to learn more about interactive tables.';\n",
              "        element.innerHTML = '';\n",
              "        dataTable['output_type'] = 'display_data';\n",
              "        await google.colab.output.renderOutput(dataTable, element);\n",
              "        const docLink = document.createElement('div');\n",
              "        docLink.innerHTML = docLinkHtml;\n",
              "        element.appendChild(docLink);\n",
              "      }\n",
              "    </script>\n",
              "  </div>\n",
              "\n",
              "\n",
              "    <div id=\"df-4228fdd9-5d40-47e3-977a-bf87613d33e9\">\n",
              "      <button class=\"colab-df-quickchart\" onclick=\"quickchart('df-4228fdd9-5d40-47e3-977a-bf87613d33e9')\"\n",
              "                title=\"Suggest charts\"\n",
              "                style=\"display:none;\">\n",
              "\n",
              "<svg xmlns=\"http://www.w3.org/2000/svg\" height=\"24px\"viewBox=\"0 0 24 24\"\n",
              "     width=\"24px\">\n",
              "    <g>\n",
              "        <path d=\"M19 3H5c-1.1 0-2 .9-2 2v14c0 1.1.9 2 2 2h14c1.1 0 2-.9 2-2V5c0-1.1-.9-2-2-2zM9 17H7v-7h2v7zm4 0h-2V7h2v10zm4 0h-2v-4h2v4z\"/>\n",
              "    </g>\n",
              "</svg>\n",
              "      </button>\n",
              "\n",
              "<style>\n",
              "  .colab-df-quickchart {\n",
              "      --bg-color: #E8F0FE;\n",
              "      --fill-color: #1967D2;\n",
              "      --hover-bg-color: #E2EBFA;\n",
              "      --hover-fill-color: #174EA6;\n",
              "      --disabled-fill-color: #AAA;\n",
              "      --disabled-bg-color: #DDD;\n",
              "  }\n",
              "\n",
              "  [theme=dark] .colab-df-quickchart {\n",
              "      --bg-color: #3B4455;\n",
              "      --fill-color: #D2E3FC;\n",
              "      --hover-bg-color: #434B5C;\n",
              "      --hover-fill-color: #FFFFFF;\n",
              "      --disabled-bg-color: #3B4455;\n",
              "      --disabled-fill-color: #666;\n",
              "  }\n",
              "\n",
              "  .colab-df-quickchart {\n",
              "    background-color: var(--bg-color);\n",
              "    border: none;\n",
              "    border-radius: 50%;\n",
              "    cursor: pointer;\n",
              "    display: none;\n",
              "    fill: var(--fill-color);\n",
              "    height: 32px;\n",
              "    padding: 0;\n",
              "    width: 32px;\n",
              "  }\n",
              "\n",
              "  .colab-df-quickchart:hover {\n",
              "    background-color: var(--hover-bg-color);\n",
              "    box-shadow: 0 1px 2px rgba(60, 64, 67, 0.3), 0 1px 3px 1px rgba(60, 64, 67, 0.15);\n",
              "    fill: var(--button-hover-fill-color);\n",
              "  }\n",
              "\n",
              "  .colab-df-quickchart-complete:disabled,\n",
              "  .colab-df-quickchart-complete:disabled:hover {\n",
              "    background-color: var(--disabled-bg-color);\n",
              "    fill: var(--disabled-fill-color);\n",
              "    box-shadow: none;\n",
              "  }\n",
              "\n",
              "  .colab-df-spinner {\n",
              "    border: 2px solid var(--fill-color);\n",
              "    border-color: transparent;\n",
              "    border-bottom-color: var(--fill-color);\n",
              "    animation:\n",
              "      spin 1s steps(1) infinite;\n",
              "  }\n",
              "\n",
              "  @keyframes spin {\n",
              "    0% {\n",
              "      border-color: transparent;\n",
              "      border-bottom-color: var(--fill-color);\n",
              "      border-left-color: var(--fill-color);\n",
              "    }\n",
              "    20% {\n",
              "      border-color: transparent;\n",
              "      border-left-color: var(--fill-color);\n",
              "      border-top-color: var(--fill-color);\n",
              "    }\n",
              "    30% {\n",
              "      border-color: transparent;\n",
              "      border-left-color: var(--fill-color);\n",
              "      border-top-color: var(--fill-color);\n",
              "      border-right-color: var(--fill-color);\n",
              "    }\n",
              "    40% {\n",
              "      border-color: transparent;\n",
              "      border-right-color: var(--fill-color);\n",
              "      border-top-color: var(--fill-color);\n",
              "    }\n",
              "    60% {\n",
              "      border-color: transparent;\n",
              "      border-right-color: var(--fill-color);\n",
              "    }\n",
              "    80% {\n",
              "      border-color: transparent;\n",
              "      border-right-color: var(--fill-color);\n",
              "      border-bottom-color: var(--fill-color);\n",
              "    }\n",
              "    90% {\n",
              "      border-color: transparent;\n",
              "      border-bottom-color: var(--fill-color);\n",
              "    }\n",
              "  }\n",
              "</style>\n",
              "\n",
              "      <script>\n",
              "        async function quickchart(key) {\n",
              "          const quickchartButtonEl =\n",
              "            document.querySelector('#' + key + ' button');\n",
              "          quickchartButtonEl.disabled = true;  // To prevent multiple clicks.\n",
              "          quickchartButtonEl.classList.add('colab-df-spinner');\n",
              "          try {\n",
              "            const charts = await google.colab.kernel.invokeFunction(\n",
              "                'suggestCharts', [key], {});\n",
              "          } catch (error) {\n",
              "            console.error('Error during call to suggestCharts:', error);\n",
              "          }\n",
              "          quickchartButtonEl.classList.remove('colab-df-spinner');\n",
              "          quickchartButtonEl.classList.add('colab-df-quickchart-complete');\n",
              "        }\n",
              "        (() => {\n",
              "          let quickchartButtonEl =\n",
              "            document.querySelector('#df-4228fdd9-5d40-47e3-977a-bf87613d33e9 button');\n",
              "          quickchartButtonEl.style.display =\n",
              "            google.colab.kernel.accessAllowed ? 'block' : 'none';\n",
              "        })();\n",
              "      </script>\n",
              "    </div>\n",
              "\n",
              "    </div>\n",
              "  </div>\n"
            ],
            "application/vnd.google.colaboratory.intrinsic+json": {
              "type": "dataframe",
              "variable_name": "df",
              "summary": "{\n  \"name\": \"df\",\n  \"rows\": 10000,\n  \"fields\": [\n    {\n      \"column\": \"Index\",\n      \"properties\": {\n        \"dtype\": \"number\",\n        \"std\": 2886,\n        \"min\": 1,\n        \"max\": 10000,\n        \"num_unique_values\": 10000,\n        \"samples\": [\n          6253,\n          4685,\n          1732\n        ],\n        \"semantic_type\": \"\",\n        \"description\": \"\"\n      }\n    },\n    {\n      \"column\": \"Employed\",\n      \"properties\": {\n        \"dtype\": \"number\",\n        \"std\": 0,\n        \"min\": 0,\n        \"max\": 1,\n        \"num_unique_values\": 2,\n        \"samples\": [\n          0,\n          1\n        ],\n        \"semantic_type\": \"\",\n        \"description\": \"\"\n      }\n    },\n    {\n      \"column\": \"Bank Balance\",\n      \"properties\": {\n        \"dtype\": \"number\",\n        \"std\": 5804.579485551093,\n        \"min\": 0.0,\n        \"max\": 31851.84,\n        \"num_unique_values\": 9227,\n        \"samples\": [\n          13885.68,\n          16187.52\n        ],\n        \"semantic_type\": \"\",\n        \"description\": \"\"\n      }\n    },\n    {\n      \"column\": \"Annual Salary\",\n      \"properties\": {\n        \"dtype\": \"number\",\n        \"std\": 160039.6749881727,\n        \"min\": 9263.64,\n        \"max\": 882650.76,\n        \"num_unique_values\": 9989,\n        \"samples\": [\n          289519.32,\n          169704.96\n        ],\n        \"semantic_type\": \"\",\n        \"description\": \"\"\n      }\n    },\n    {\n      \"column\": \"Defaulted?\",\n      \"properties\": {\n        \"dtype\": \"number\",\n        \"std\": 0,\n        \"min\": 0,\n        \"max\": 1,\n        \"num_unique_values\": 2,\n        \"samples\": [\n          1,\n          0\n        ],\n        \"semantic_type\": \"\",\n        \"description\": \"\"\n      }\n    }\n  ]\n}"
            }
          },
          "metadata": {},
          "execution_count": 26
        }
      ],
      "source": [
        "# Carga do dataset\n",
        "df = kagglehub.load_dataset(\n",
        "  KaggleDatasetAdapter.PANDAS,\n",
        "  \"kmldas/loan-default-prediction\",\n",
        "  file_path,\n",
        "  # Provide any additional arguments like\n",
        "  # sql_query or pandas_kwargs. See the\n",
        "  # documenation for more information:\n",
        "  # https://github.com/Kaggle/kagglehub/blob/main/README.md#kaggledatasetadapterpandas\n",
        ")\n",
        "\n",
        "# Use the loaded DataFrame directly\n",
        "df.head()"
      ]
    },
    {
      "cell_type": "code",
      "source": [
        "\n",
        "# === Verificações iniciais ===\n",
        "display(df.sample(5))\n",
        "print(\"\\nFormato:\", df.shape)\n",
        "print(\"\\nTipos:\")\n",
        "print(df.dtypes)\n",
        "print(\"\\nValores ausentes por coluna:\")\n",
        "print(df.isna().sum())\n"
      ],
      "metadata": {
        "colab": {
          "base_uri": "https://localhost:8080/",
          "height": 538
        },
        "id": "Pszymq04a8FK",
        "outputId": "39b86765-d094-416f-be43-1f36fe85f89f"
      },
      "execution_count": null,
      "outputs": [
        {
          "output_type": "display_data",
          "data": {
            "text/plain": [
              "      Index  Employed  Bank Balance  Annual Salary  Defaulted?\n",
              "6252   6253         1      17227.92      378085.08           0\n",
              "4684   4685         1       9261.48      505668.84           0\n",
              "1731   1732         1          0.00      261710.64           0\n",
              "4742   4743         1       1362.84      393645.96           0\n",
              "4521   4522         1      16297.56      598843.20           0"
            ],
            "text/html": [
              "\n",
              "  <div id=\"df-74ba7503-8445-4f9f-833d-cd1196e1dd5c\" class=\"colab-df-container\">\n",
              "    <div>\n",
              "<style scoped>\n",
              "    .dataframe tbody tr th:only-of-type {\n",
              "        vertical-align: middle;\n",
              "    }\n",
              "\n",
              "    .dataframe tbody tr th {\n",
              "        vertical-align: top;\n",
              "    }\n",
              "\n",
              "    .dataframe thead th {\n",
              "        text-align: right;\n",
              "    }\n",
              "</style>\n",
              "<table border=\"1\" class=\"dataframe\">\n",
              "  <thead>\n",
              "    <tr style=\"text-align: right;\">\n",
              "      <th></th>\n",
              "      <th>Index</th>\n",
              "      <th>Employed</th>\n",
              "      <th>Bank Balance</th>\n",
              "      <th>Annual Salary</th>\n",
              "      <th>Defaulted?</th>\n",
              "    </tr>\n",
              "  </thead>\n",
              "  <tbody>\n",
              "    <tr>\n",
              "      <th>6252</th>\n",
              "      <td>6253</td>\n",
              "      <td>1</td>\n",
              "      <td>17227.92</td>\n",
              "      <td>378085.08</td>\n",
              "      <td>0</td>\n",
              "    </tr>\n",
              "    <tr>\n",
              "      <th>4684</th>\n",
              "      <td>4685</td>\n",
              "      <td>1</td>\n",
              "      <td>9261.48</td>\n",
              "      <td>505668.84</td>\n",
              "      <td>0</td>\n",
              "    </tr>\n",
              "    <tr>\n",
              "      <th>1731</th>\n",
              "      <td>1732</td>\n",
              "      <td>1</td>\n",
              "      <td>0.00</td>\n",
              "      <td>261710.64</td>\n",
              "      <td>0</td>\n",
              "    </tr>\n",
              "    <tr>\n",
              "      <th>4742</th>\n",
              "      <td>4743</td>\n",
              "      <td>1</td>\n",
              "      <td>1362.84</td>\n",
              "      <td>393645.96</td>\n",
              "      <td>0</td>\n",
              "    </tr>\n",
              "    <tr>\n",
              "      <th>4521</th>\n",
              "      <td>4522</td>\n",
              "      <td>1</td>\n",
              "      <td>16297.56</td>\n",
              "      <td>598843.20</td>\n",
              "      <td>0</td>\n",
              "    </tr>\n",
              "  </tbody>\n",
              "</table>\n",
              "</div>\n",
              "    <div class=\"colab-df-buttons\">\n",
              "\n",
              "  <div class=\"colab-df-container\">\n",
              "    <button class=\"colab-df-convert\" onclick=\"convertToInteractive('df-74ba7503-8445-4f9f-833d-cd1196e1dd5c')\"\n",
              "            title=\"Convert this dataframe to an interactive table.\"\n",
              "            style=\"display:none;\">\n",
              "\n",
              "  <svg xmlns=\"http://www.w3.org/2000/svg\" height=\"24px\" viewBox=\"0 -960 960 960\">\n",
              "    <path d=\"M120-120v-720h720v720H120Zm60-500h600v-160H180v160Zm220 220h160v-160H400v160Zm0 220h160v-160H400v160ZM180-400h160v-160H180v160Zm440 0h160v-160H620v160ZM180-180h160v-160H180v160Zm440 0h160v-160H620v160Z\"/>\n",
              "  </svg>\n",
              "    </button>\n",
              "\n",
              "  <style>\n",
              "    .colab-df-container {\n",
              "      display:flex;\n",
              "      gap: 12px;\n",
              "    }\n",
              "\n",
              "    .colab-df-convert {\n",
              "      background-color: #E8F0FE;\n",
              "      border: none;\n",
              "      border-radius: 50%;\n",
              "      cursor: pointer;\n",
              "      display: none;\n",
              "      fill: #1967D2;\n",
              "      height: 32px;\n",
              "      padding: 0 0 0 0;\n",
              "      width: 32px;\n",
              "    }\n",
              "\n",
              "    .colab-df-convert:hover {\n",
              "      background-color: #E2EBFA;\n",
              "      box-shadow: 0px 1px 2px rgba(60, 64, 67, 0.3), 0px 1px 3px 1px rgba(60, 64, 67, 0.15);\n",
              "      fill: #174EA6;\n",
              "    }\n",
              "\n",
              "    .colab-df-buttons div {\n",
              "      margin-bottom: 4px;\n",
              "    }\n",
              "\n",
              "    [theme=dark] .colab-df-convert {\n",
              "      background-color: #3B4455;\n",
              "      fill: #D2E3FC;\n",
              "    }\n",
              "\n",
              "    [theme=dark] .colab-df-convert:hover {\n",
              "      background-color: #434B5C;\n",
              "      box-shadow: 0px 1px 3px 1px rgba(0, 0, 0, 0.15);\n",
              "      filter: drop-shadow(0px 1px 2px rgba(0, 0, 0, 0.3));\n",
              "      fill: #FFFFFF;\n",
              "    }\n",
              "  </style>\n",
              "\n",
              "    <script>\n",
              "      const buttonEl =\n",
              "        document.querySelector('#df-74ba7503-8445-4f9f-833d-cd1196e1dd5c button.colab-df-convert');\n",
              "      buttonEl.style.display =\n",
              "        google.colab.kernel.accessAllowed ? 'block' : 'none';\n",
              "\n",
              "      async function convertToInteractive(key) {\n",
              "        const element = document.querySelector('#df-74ba7503-8445-4f9f-833d-cd1196e1dd5c');\n",
              "        const dataTable =\n",
              "          await google.colab.kernel.invokeFunction('convertToInteractive',\n",
              "                                                    [key], {});\n",
              "        if (!dataTable) return;\n",
              "\n",
              "        const docLinkHtml = 'Like what you see? Visit the ' +\n",
              "          '<a target=\"_blank\" href=https://colab.research.google.com/notebooks/data_table.ipynb>data table notebook</a>'\n",
              "          + ' to learn more about interactive tables.';\n",
              "        element.innerHTML = '';\n",
              "        dataTable['output_type'] = 'display_data';\n",
              "        await google.colab.output.renderOutput(dataTable, element);\n",
              "        const docLink = document.createElement('div');\n",
              "        docLink.innerHTML = docLinkHtml;\n",
              "        element.appendChild(docLink);\n",
              "      }\n",
              "    </script>\n",
              "  </div>\n",
              "\n",
              "\n",
              "    <div id=\"df-233b5080-2a3b-4b2f-9b3b-5af1d6baf854\">\n",
              "      <button class=\"colab-df-quickchart\" onclick=\"quickchart('df-233b5080-2a3b-4b2f-9b3b-5af1d6baf854')\"\n",
              "                title=\"Suggest charts\"\n",
              "                style=\"display:none;\">\n",
              "\n",
              "<svg xmlns=\"http://www.w3.org/2000/svg\" height=\"24px\"viewBox=\"0 0 24 24\"\n",
              "     width=\"24px\">\n",
              "    <g>\n",
              "        <path d=\"M19 3H5c-1.1 0-2 .9-2 2v14c0 1.1.9 2 2 2h14c1.1 0 2-.9 2-2V5c0-1.1-.9-2-2-2zM9 17H7v-7h2v7zm4 0h-2V7h2v10zm4 0h-2v-4h2v4z\"/>\n",
              "    </g>\n",
              "</svg>\n",
              "      </button>\n",
              "\n",
              "<style>\n",
              "  .colab-df-quickchart {\n",
              "      --bg-color: #E8F0FE;\n",
              "      --fill-color: #1967D2;\n",
              "      --hover-bg-color: #E2EBFA;\n",
              "      --hover-fill-color: #174EA6;\n",
              "      --disabled-fill-color: #AAA;\n",
              "      --disabled-bg-color: #DDD;\n",
              "  }\n",
              "\n",
              "  [theme=dark] .colab-df-quickchart {\n",
              "      --bg-color: #3B4455;\n",
              "      --fill-color: #D2E3FC;\n",
              "      --hover-bg-color: #434B5C;\n",
              "      --hover-fill-color: #FFFFFF;\n",
              "      --disabled-bg-color: #3B4455;\n",
              "      --disabled-fill-color: #666;\n",
              "  }\n",
              "\n",
              "  .colab-df-quickchart {\n",
              "    background-color: var(--bg-color);\n",
              "    border: none;\n",
              "    border-radius: 50%;\n",
              "    cursor: pointer;\n",
              "    display: none;\n",
              "    fill: var(--fill-color);\n",
              "    height: 32px;\n",
              "    padding: 0;\n",
              "    width: 32px;\n",
              "  }\n",
              "\n",
              "  .colab-df-quickchart:hover {\n",
              "    background-color: var(--hover-bg-color);\n",
              "    box-shadow: 0 1px 2px rgba(60, 64, 67, 0.3), 0 1px 3px 1px rgba(60, 64, 67, 0.15);\n",
              "    fill: var(--button-hover-fill-color);\n",
              "  }\n",
              "\n",
              "  .colab-df-quickchart-complete:disabled,\n",
              "  .colab-df-quickchart-complete:disabled:hover {\n",
              "    background-color: var(--disabled-bg-color);\n",
              "    fill: var(--disabled-fill-color);\n",
              "    box-shadow: none;\n",
              "  }\n",
              "\n",
              "  .colab-df-spinner {\n",
              "    border: 2px solid var(--fill-color);\n",
              "    border-color: transparent;\n",
              "    border-bottom-color: var(--fill-color);\n",
              "    animation:\n",
              "      spin 1s steps(1) infinite;\n",
              "  }\n",
              "\n",
              "  @keyframes spin {\n",
              "    0% {\n",
              "      border-color: transparent;\n",
              "      border-bottom-color: var(--fill-color);\n",
              "      border-left-color: var(--fill-color);\n",
              "    }\n",
              "    20% {\n",
              "      border-color: transparent;\n",
              "      border-left-color: var(--fill-color);\n",
              "      border-top-color: var(--fill-color);\n",
              "    }\n",
              "    30% {\n",
              "      border-color: transparent;\n",
              "      border-left-color: var(--fill-color);\n",
              "      border-top-color: var(--fill-color);\n",
              "      border-right-color: var(--fill-color);\n",
              "    }\n",
              "    40% {\n",
              "      border-color: transparent;\n",
              "      border-right-color: var(--fill-color);\n",
              "      border-top-color: var(--fill-color);\n",
              "    }\n",
              "    60% {\n",
              "      border-color: transparent;\n",
              "      border-right-color: var(--fill-color);\n",
              "    }\n",
              "    80% {\n",
              "      border-color: transparent;\n",
              "      border-right-color: var(--fill-color);\n",
              "      border-bottom-color: var(--fill-color);\n",
              "    }\n",
              "    90% {\n",
              "      border-color: transparent;\n",
              "      border-bottom-color: var(--fill-color);\n",
              "    }\n",
              "  }\n",
              "</style>\n",
              "\n",
              "      <script>\n",
              "        async function quickchart(key) {\n",
              "          const quickchartButtonEl =\n",
              "            document.querySelector('#' + key + ' button');\n",
              "          quickchartButtonEl.disabled = true;  // To prevent multiple clicks.\n",
              "          quickchartButtonEl.classList.add('colab-df-spinner');\n",
              "          try {\n",
              "            const charts = await google.colab.kernel.invokeFunction(\n",
              "                'suggestCharts', [key], {});\n",
              "          } catch (error) {\n",
              "            console.error('Error during call to suggestCharts:', error);\n",
              "          }\n",
              "          quickchartButtonEl.classList.remove('colab-df-spinner');\n",
              "          quickchartButtonEl.classList.add('colab-df-quickchart-complete');\n",
              "        }\n",
              "        (() => {\n",
              "          let quickchartButtonEl =\n",
              "            document.querySelector('#df-233b5080-2a3b-4b2f-9b3b-5af1d6baf854 button');\n",
              "          quickchartButtonEl.style.display =\n",
              "            google.colab.kernel.accessAllowed ? 'block' : 'none';\n",
              "        })();\n",
              "      </script>\n",
              "    </div>\n",
              "\n",
              "    </div>\n",
              "  </div>\n"
            ],
            "application/vnd.google.colaboratory.intrinsic+json": {
              "type": "dataframe",
              "summary": "{\n  \"name\": \"print(df\",\n  \"rows\": 5,\n  \"fields\": [\n    {\n      \"column\": \"Index\",\n      \"properties\": {\n        \"dtype\": \"number\",\n        \"std\": 1640,\n        \"min\": 1732,\n        \"max\": 6253,\n        \"num_unique_values\": 5,\n        \"samples\": [\n          4685,\n          4522,\n          1732\n        ],\n        \"semantic_type\": \"\",\n        \"description\": \"\"\n      }\n    },\n    {\n      \"column\": \"Employed\",\n      \"properties\": {\n        \"dtype\": \"number\",\n        \"std\": 0,\n        \"min\": 1,\n        \"max\": 1,\n        \"num_unique_values\": 1,\n        \"samples\": [\n          1\n        ],\n        \"semantic_type\": \"\",\n        \"description\": \"\"\n      }\n    },\n    {\n      \"column\": \"Bank Balance\",\n      \"properties\": {\n        \"dtype\": \"number\",\n        \"std\": 8065.405540454863,\n        \"min\": 0.0,\n        \"max\": 17227.92,\n        \"num_unique_values\": 5,\n        \"samples\": [\n          9261.48\n        ],\n        \"semantic_type\": \"\",\n        \"description\": \"\"\n      }\n    },\n    {\n      \"column\": \"Annual Salary\",\n      \"properties\": {\n        \"dtype\": \"number\",\n        \"std\": 128979.51464569432,\n        \"min\": 261710.64,\n        \"max\": 598843.2,\n        \"num_unique_values\": 5,\n        \"samples\": [\n          505668.84\n        ],\n        \"semantic_type\": \"\",\n        \"description\": \"\"\n      }\n    },\n    {\n      \"column\": \"Defaulted?\",\n      \"properties\": {\n        \"dtype\": \"number\",\n        \"std\": 0,\n        \"min\": 0,\n        \"max\": 0,\n        \"num_unique_values\": 1,\n        \"samples\": [\n          0\n        ],\n        \"semantic_type\": \"\",\n        \"description\": \"\"\n      }\n    }\n  ]\n}"
            }
          },
          "metadata": {}
        },
        {
          "output_type": "stream",
          "name": "stdout",
          "text": [
            "\n",
            "Formato: (10000, 5)\n",
            "\n",
            "Tipos:\n",
            "Index              int64\n",
            "Employed           int64\n",
            "Bank Balance     float64\n",
            "Annual Salary    float64\n",
            "Defaulted?         int64\n",
            "dtype: object\n",
            "\n",
            "Valores ausentes por coluna:\n",
            "Index            0\n",
            "Employed         0\n",
            "Bank Balance     0\n",
            "Annual Salary    0\n",
            "Defaulted?       0\n",
            "dtype: int64\n"
          ]
        }
      ]
    },
    {
      "cell_type": "code",
      "source": [
        "### Verificação de proporcionalidade da classe\n",
        "df['Defaulted?'].value_counts(normalize=True)"
      ],
      "metadata": {
        "colab": {
          "base_uri": "https://localhost:8080/",
          "height": 178
        },
        "id": "UBv5GLwlbRc8",
        "outputId": "4b22c98f-8deb-4d8d-fc3d-1213da4cd06d"
      },
      "execution_count": null,
      "outputs": [
        {
          "output_type": "execute_result",
          "data": {
            "text/plain": [
              "Defaulted?\n",
              "0    0.9667\n",
              "1    0.0333\n",
              "Name: proportion, dtype: float64"
            ],
            "text/html": [
              "<div>\n",
              "<style scoped>\n",
              "    .dataframe tbody tr th:only-of-type {\n",
              "        vertical-align: middle;\n",
              "    }\n",
              "\n",
              "    .dataframe tbody tr th {\n",
              "        vertical-align: top;\n",
              "    }\n",
              "\n",
              "    .dataframe thead th {\n",
              "        text-align: right;\n",
              "    }\n",
              "</style>\n",
              "<table border=\"1\" class=\"dataframe\">\n",
              "  <thead>\n",
              "    <tr style=\"text-align: right;\">\n",
              "      <th></th>\n",
              "      <th>proportion</th>\n",
              "    </tr>\n",
              "    <tr>\n",
              "      <th>Defaulted?</th>\n",
              "      <th></th>\n",
              "    </tr>\n",
              "  </thead>\n",
              "  <tbody>\n",
              "    <tr>\n",
              "      <th>0</th>\n",
              "      <td>0.9667</td>\n",
              "    </tr>\n",
              "    <tr>\n",
              "      <th>1</th>\n",
              "      <td>0.0333</td>\n",
              "    </tr>\n",
              "  </tbody>\n",
              "</table>\n",
              "</div><br><label><b>dtype:</b> float64</label>"
            ]
          },
          "metadata": {},
          "execution_count": 28
        }
      ]
    },
    {
      "cell_type": "markdown",
      "source": [
        "### 3.1 Dicionário de Variáveis\n",
        "\n",
        "| Variável | Tipo de Dado | Descrição |\n",
        "| :--- | :--- | :--- |\n",
        "| **Index** | Numérico (int) | Identificador único para cada cliente no dataset. |\n",
        "| **Employed** | Numérico (int) | Status de emprego do cliente (1 para empregado, 0 para não). |\n",
        "| **Bank Balance** | Numérico (float)| Saldo em conta corrente no momento da solicitação. |\n",
        "| **Annual Salary**| Numérico (float)| Renda anual declarada pelo cliente. |\n",
        "| **Defaulted?** | **Target** (int)| A variável alvo: 1 se o cliente se tornou inadimplente, 0 caso contrário. |"
      ],
      "metadata": {
        "id": "EjvP-lAkUbNU"
      }
    },
    {
      "cell_type": "markdown",
      "metadata": {
        "id": "4922028c"
      },
      "source": [
        "### 3.2 Análise Exploratória Inicial: O Desafio do Desbalanceamento\n",
        "Ao analisar a variável alvo (Defaulted?), notamos um forte desbalanceamento de classes:\n",
        "\n",
        "Classe 0 (Adimplentes): 96.7% do dataset.\n",
        "\n",
        "Classe 1 (Inadimplentes): 3.3% do dataset.\n",
        "\n",
        "Isso revela o principal desafio do projeto: a acurácia por si só será uma métrica enganosa. O verdadeiro sucesso do modelo não está em acertar os 96.7% de casos óbvios, mas sim em sua capacidade de identificar corretamente a rara classe de inadimplentes."
      ]
    },
    {
      "cell_type": "code",
      "source": [
        "# Gráfico de Pizza\n",
        "counts = df['Defaulted?'].value_counts()\n",
        "labels = ['Adimplente (Classe 0)', 'Inadimplente (Classe 1)']\n",
        "explode = (0, 0.1)\n",
        "\n",
        "plt.figure(figsize=(8, 6))\n",
        "plt.pie(counts, labels=labels, autopct='%1.1f%%', startangle=160, explode=explode)\n",
        "\n",
        "plt.title('Proporção de Clientes Adimplentes vs. Inadimplentes')\n",
        "plt.axis('equal')\n",
        "plt.show()"
      ],
      "metadata": {
        "colab": {
          "base_uri": "https://localhost:8080/",
          "height": 521
        },
        "id": "0mWLfQC9cN7T",
        "outputId": "e70b16ca-5ff6-4ee4-97de-ec7e8ab2f667"
      },
      "execution_count": null,
      "outputs": [
        {
          "output_type": "display_data",
          "data": {
            "text/plain": [
              "<Figure size 800x600 with 1 Axes>"
            ],
            "image/png": "[encoded data removed]"
          },
          "metadata": {}
        }
      ]
    },
    {
      "cell_type": "markdown",
      "source": [
        "## 4. Definição do target, variáveis e divisão dos dados"
      ],
      "metadata": {
        "id": "vsjDHSwxt_ag"
      }
    },
    {
      "cell_type": "code",
      "source": [
        "target = 'Defaulted?'\n",
        "\n",
        "# Define as features (colunas de entrada), excluindo o target e o index\n",
        "features = ['Employed', 'Bank Balance', 'Annual Salary']\n",
        "\n",
        "print(\"Target:\", target)\n",
        "print(\"Features:\", features)\n",
        "\n",
        "X = df[features].copy()\n",
        "y = df[target].copy()\n",
        "\n",
        "# Divide os dados em treino e teste, mantendo a proporção das classes (estratificação)\n",
        "# A variável SEED deve ter sido definida anteriormente (ex: SEED = 42)\n",
        "X_train, X_test, y_train, y_test = train_test_split(\n",
        "    X, y, test_size=0.2, random_state=SEED, stratify=y\n",
        ")\n",
        "\n",
        "print(\"\\nFormato dos dados de Treino:\", X_train.shape)\n",
        "print(\"Formato dos dados de Teste:\", X_test.shape)"
      ],
      "metadata": {
        "colab": {
          "base_uri": "https://localhost:8080/"
        },
        "id": "NlLDD6EKt-sh",
        "outputId": "bea707d1-31fa-4393-e431-c798a654e23f"
      },
      "execution_count": null,
      "outputs": [
        {
          "output_type": "stream",
          "name": "stdout",
          "text": [
            "Target: Defaulted?\n",
            "Features: ['Employed', 'Bank Balance', 'Annual Salary']\n",
            "\n",
            "Formato dos dados de Treino: (8000, 3)\n",
            "Formato dos dados de Teste: (2000, 3)\n"
          ]
        }
      ]
    },
    {
      "cell_type": "markdown",
      "source": [
        "## 5. Tratamento de dados e Pipeline de pré-processamento"
      ],
      "metadata": {
        "id": "hX0Skmfnw_pm"
      }
    },
    {
      "cell_type": "code",
      "source": [
        "# --- Etapa 5: Pipeline de Pré-processamento ---\n",
        "\n",
        "# Como todas as features são numéricas e não há dados faltantes,\n",
        "# nosso pipeline precisa apenas padronizar os dados.\n",
        "preprocess_pipeline = Pipeline(steps=[\n",
        "    ('scaler', StandardScaler())\n",
        "])\n",
        "\n",
        "print(\"Pipeline de pré-processamento criado com sucesso:\")\n",
        "print(preprocess_pipeline)"
      ],
      "metadata": {
        "colab": {
          "base_uri": "https://localhost:8080/"
        },
        "id": "pjzQaNmZxD8r",
        "outputId": "838c4f60-b7a8-4e41-ef56-b3bdca6c5b63"
      },
      "execution_count": null,
      "outputs": [
        {
          "output_type": "stream",
          "name": "stdout",
          "text": [
            "Pipeline de pré-processamento criado com sucesso:\n",
            "Pipeline(steps=[('scaler', StandardScaler())])\n"
          ]
        }
      ]
    },
    {
      "cell_type": "markdown",
      "source": [
        "## 6. Baseline e modelos candidatos"
      ],
      "metadata": {
        "id": "PQtKyf6b0aj9"
      }
    },
    {
      "cell_type": "code",
      "source": [
        "models = []\n",
        "\n",
        "# Adiciona o Baseline: Regressão Logística (LR)\n",
        "models.append(('LR', Pipeline([\n",
        "    ('preprocessor', preprocess_pipeline),\n",
        "    ('classifier', LogisticRegression(random_state=SEED))\n",
        "])))\n",
        "\n",
        "# Adiciona o Candidato 1: Árvore de Decisão (CART)\n",
        "models.append(('CART', Pipeline([\n",
        "    ('preprocessor', preprocess_pipeline),\n",
        "    ('classifier', DecisionTreeClassifier(random_state=SEED))\n",
        "])))\n",
        "\n",
        "# Adiciona o Candidato 2: Random Forest (RF)\n",
        "models.append(('RF', Pipeline([\n",
        "    ('preprocessor', preprocess_pipeline),\n",
        "    ('classifier', RandomForestClassifier(random_state=SEED))\n",
        "])))\n",
        "\n",
        "print(\"Modelos candidatos definidos com sucesso.\")"
      ],
      "metadata": {
        "colab": {
          "base_uri": "https://localhost:8080/"
        },
        "id": "Gnk7NT0_0aAc",
        "outputId": "1ab2d2d1-517b-4be3-e434-2851400b97c8"
      },
      "execution_count": null,
      "outputs": [
        {
          "output_type": "stream",
          "name": "stdout",
          "text": [
            "Modelos candidatos definidos com sucesso.\n"
          ]
        }
      ]
    },
    {
      "cell_type": "markdown",
      "source": [
        "## 6.1 Treino e avaliação rápida (baseline vs candidatos)"
      ],
      "metadata": {
        "id": "-Ipk38wA4nD9"
      }
    },
    {
      "cell_type": "markdown",
      "source": [
        "### 6.1.1 Escolhendo o Melhor Modelo do Jeito Certo"
      ],
      "metadata": {
        "id": "ETm85M-N6NEg"
      }
    },
    {
      "cell_type": "markdown",
      "source": [
        "Para a comparação dos modelos (Regressão Logística, Árvore de Decisão e Random Forest), foi necessário adotar um método justo para medir o desempenho de cada um.\n",
        "\n",
        "O problema é que uma única divisão dos dados em treino e teste pode levar a um resultado enviesado, dependendo da forma como os dados foram separados. Para evitar esse risco, foi utilizada a metodologia de Validação Cruzada Estratificada.\n",
        "\n",
        "O processo funciona da seguinte forma:\n",
        "\n",
        "O conjunto de treino é dividido em 10 partes.\n",
        "\n",
        "O modelo é então treinado 10 vezes. Em cada rodada, 9 partes são usadas para o aprendizado e 1 parte é usada para o teste.\n",
        "\n",
        "O desempenho final do modelo corresponde à média dos resultados obtidos nessas 10 rodadas.\n",
        "\n",
        "Com isso, obtém-se uma visão muito mais estável e confiável da performance.\n",
        "\n",
        "Um detalhe crucial é que foi usada a versão \"Estratificada\" porque o conjunto de dados é desbalanceado (apenas 3% de inadimplentes). Essa técnica garante que, em cada uma das 10 partes, a proporção original de 3% seja mantida, o que torna a avaliação mais precisa.\n",
        "\n",
        "Dessa forma, a escolha do melhor modelo é feita com maior segurança, mantendo o conjunto de teste final (X_test) intacto para a avaliação definitiva ao final do projeto."
      ],
      "metadata": {
        "id": "s0TxzCuq9dMI"
      }
    },
    {
      "cell_type": "markdown",
      "source": [
        "### 6.1.2 Validação dos modelos"
      ],
      "metadata": {
        "id": "Us_4WT8M9Pe3"
      }
    },
    {
      "cell_type": "code",
      "source": [
        "# Foi utilizado StratifiedKFold para manter a proporção das classes em cada dobra.\n",
        "num_particoes = 10\n",
        "scoring = 'accuracy' # ou 'f1_weighted' se preferir\n",
        "kfold = StratifiedKFold(n_splits=num_particoes, shuffle=True, random_state=SEED)\n",
        "\n",
        "results = []\n",
        "names = []\n",
        "\n",
        "print(\"Avaliação de Desempenho dos Modelos (via Validação Cruzada):\\n\")\n",
        "for name, model in models:\n",
        "    cv_results = cross_val_score(model, X_train, y_train, cv=kfold, scoring=scoring)\n",
        "    results.append(cv_results)\n",
        "    names.append(name)\n",
        "    msg = \"%s: %f (%f)\" % (name, cv_results.mean(), cv_results.std())\n",
        "    print(msg)\n",
        "\n",
        "print(\"\\n\")\n",
        "plt.figure(figsize=(10, 6))\n",
        "plt.title('Comparação de Desempenho dos Modelos')\n",
        "plt.boxplot(results)\n",
        "plt.xticks(ticks=[1, 2, 3], labels=names)\n",
        "plt.ylabel(scoring)\n",
        "plt.show()"
      ],
      "metadata": {
        "colab": {
          "base_uri": "https://localhost:8080/",
          "height": 674
        },
        "id": "sXjM4_Fc4mDJ",
        "outputId": "0d923a2f-a6bf-4eb6-9a54-de263b8aa61c"
      },
      "execution_count": null,
      "outputs": [
        {
          "output_type": "stream",
          "name": "stdout",
          "text": [
            "Avaliação de Desempenho dos Modelos (via Validação Cruzada):\n",
            "\n",
            "LR: 0.973500 (0.002291)\n",
            "CART: 0.955750 (0.005483)\n",
            "RF: 0.970375 (0.003214)\n",
            "\n",
            "\n"
          ]
        },
        {
          "output_type": "display_data",
          "data": {
            "text/plain": [
              "<Figure size 1000x600 with 1 Axes>"
            ],
            "image/png": "[encoded data removed]"
          },
          "metadata": {}
        }
      ]
    },
    {
      "cell_type": "markdown",
      "source": [
        "## 7. Otimização de Hiperparâmetros"
      ],
      "metadata": {
        "id": "M8ursll29jri"
      }
    },
    {
      "cell_type": "code",
      "source": [
        "cv = StratifiedKFold(n_splits=5, shuffle=True, random_state=SEED)\n",
        "\n",
        "# 2. Define o pipeline do modelo que será otimizado (nosso campeão, o RF)\n",
        "#    Note que usamos 'model' como o nome do passo do classificador.\n",
        "model_to_tune = Pipeline([\n",
        "    ('preprocessor', preprocess_pipeline),\n",
        "    ('model', RandomForestClassifier(random_state=SEED))\n",
        "])\n",
        "\n",
        "# 3. Define as faixas de busca para os hiperparâmetros\n",
        "#    A sintaxe 'model__<parametro>' informa qual passo do pipeline queremos otimizar.\n",
        "param_dist = {\n",
        "    \"model__n_estimators\": randint(100, 400),\n",
        "    \"model__max_depth\": randint(3, 20),\n",
        "    \"model__min_samples_split\": randint(2, 10)\n",
        "}\n",
        "\n",
        "# 4. Define a métrica que queremos otimizar. 'f1_weighted' é uma boa escolha para dados desbalanceados.\n",
        "scorer = \"f1_weighted\"\n",
        "\n",
        "# 5. Configura e executa a busca aleatória (RandomizedSearchCV)\n",
        "#    n_iter=10 significa que ele testará 10 combinações aleatórias.\n",
        "search = RandomizedSearchCV(\n",
        "    model_to_tune,\n",
        "    param_distributions=param_dist,\n",
        "    n_iter=10,\n",
        "    cv=cv,\n",
        "    scoring=scorer,\n",
        "    random_state=SEED,\n",
        "    n_jobs=-1, # Usa todos os processadores disponíveis\n",
        "    verbose=1  # Mostra o progresso do treinamento\n",
        ")\n",
        "\n",
        "# Inicia o processo de otimização\n",
        "search.fit(X_train, y_train)\n",
        "\n",
        "# 6. Exibe os resultados\n",
        "print(\"\\nOtimização concluída.\")\n",
        "print(f\"Melhor score (CV F1-Weighted): {search.best_score_:.4f}\")\n",
        "print(\"Melhores parâmetros encontrados:\", search.best_params_)\n",
        "\n",
        "# O objeto 'search.best_estimator_' agora contém o pipeline completo com os melhores parâmetros\n",
        "best_model_optimized = search.best_estimator_"
      ],
      "metadata": {
        "colab": {
          "base_uri": "https://localhost:8080/"
        },
        "id": "td_PQRqy_yOh",
        "outputId": "c01843f2-41ba-4058-dd34-36beb79410b4"
      },
      "execution_count": null,
      "outputs": [
        {
          "output_type": "stream",
          "name": "stdout",
          "text": [
            "Fitting 5 folds for each of 10 candidates, totalling 50 fits\n",
            "\n",
            "Otimização concluída.\n",
            "Melhor score (CV F1-Weighted): 0.9679\n",
            "Melhores parâmetros encontrados: {'model__max_depth': 5, 'model__min_samples_split': 7, 'model__n_estimators': 357}\n"
          ]
        }
      ]
    },
    {
      "cell_type": "markdown",
      "source": [
        "## 8. Avaliação final, análise de erros e limitações"
      ],
      "metadata": {
        "id": "G2Tp_I8UBkdD"
      }
    },
    {
      "cell_type": "markdown",
      "source": [
        "### 8.1 Avaliação do Baseline (LR):"
      ],
      "metadata": {
        "id": "gGcLPIKCAius"
      }
    },
    {
      "cell_type": "code",
      "source": [
        "\n",
        "print(\"--- Avaliação do Modelo Baseline (LR) no Conjunto de Teste ---\")\n",
        "# O primeiro modelo na nossa lista 'models' é o LR\n",
        "baseline_model = models[0][1] # Pega o pipeline do LR\n",
        "baseline_model.fit(X_train, y_train)\n",
        "y_pred_baseline = baseline_model.predict(X_test)\n",
        "\n",
        "print(classification_report(y_test, y_pred_baseline))\n",
        "ConfusionMatrixDisplay.from_estimator(baseline_model, X_test, y_test, cmap='Blues')\n",
        "plt.title(\"Matriz de Confusão - Baseline (LR)\")\n",
        "plt.show()"
      ],
      "metadata": {
        "colab": {
          "base_uri": "https://localhost:8080/",
          "height": 657
        },
        "id": "vsWoBJ5bBmeR",
        "outputId": "c766fddf-a4d2-49c1-89bd-67d50069982a"
      },
      "execution_count": null,
      "outputs": [
        {
          "output_type": "stream",
          "name": "stdout",
          "text": [
            "--- Avaliação do Modelo Baseline (LR) no Conjunto de Teste ---\n",
            "              precision    recall  f1-score   support\n",
            "\n",
            "           0       0.98      1.00      0.99      1933\n",
            "           1       0.72      0.31      0.44        67\n",
            "\n",
            "    accuracy                           0.97      2000\n",
            "   macro avg       0.85      0.65      0.71      2000\n",
            "weighted avg       0.97      0.97      0.97      2000\n",
            "\n"
          ]
        },
        {
          "output_type": "display_data",
          "data": {
            "text/plain": [
              "<Figure size 640x480 with 2 Axes>"
            ],
            "image/png": "[encoded data removed]"
          },
          "metadata": {}
        }
      ]
    },
    {
      "cell_type": "markdown",
      "source": [
        "### 8.2 Avaliação do Melhor Modelo Otimizado (RF):"
      ],
      "metadata": {
        "id": "-I2Lwx7LAq-V"
      }
    },
    {
      "cell_type": "code",
      "source": [
        "print(\"\\n--- Avaliação do Melhor Modelo Otimizado (RF) no Conjunto de Teste ---\")\n",
        "best_model_optimized = search.best_estimator_ # Este modelo já foi treinado pelo RandomizedSearchCV\n",
        "\n",
        "# Como o best_model_optimized já foi treinado com os melhores parâmetros,\n",
        "# podemos usá-lo diretamente para prever no conjunto de teste.\n",
        "y_pred_optimized = best_model_optimized.predict(X_test)\n",
        "\n",
        "print(classification_report(y_test, y_pred_optimized))\n",
        "ConfusionMatrixDisplay.from_estimator(best_model_optimized, X_test, y_test, cmap='Blues')\n",
        "plt.title(\"Matriz de Confusão - Modelo Otimizado (RF)\")\n",
        "plt.show()"
      ],
      "metadata": {
        "colab": {
          "base_uri": "https://localhost:8080/",
          "height": 675
        },
        "id": "qpfygvplA459",
        "outputId": "4566eef1-dfd1-433f-c58a-42e5ad4ac8b8"
      },
      "execution_count": null,
      "outputs": [
        {
          "output_type": "stream",
          "name": "stdout",
          "text": [
            "\n",
            "--- Avaliação do Melhor Modelo Otimizado (RF) no Conjunto de Teste ---\n",
            "              precision    recall  f1-score   support\n",
            "\n",
            "           0       0.98      0.99      0.99      1933\n",
            "           1       0.67      0.36      0.47        67\n",
            "\n",
            "    accuracy                           0.97      2000\n",
            "   macro avg       0.82      0.68      0.73      2000\n",
            "weighted avg       0.97      0.97      0.97      2000\n",
            "\n"
          ]
        },
        {
          "output_type": "display_data",
          "data": {
            "text/plain": [
              "<Figure size 640x480 with 2 Axes>"
            ],
            "image/png": "[encoded data removed]"
          },
          "metadata": {}
        }
      ]
    },
    {
      "cell_type": "markdown",
      "source": [
        "### 8.3 - Avaliação do Modelo Otimizado e Balanceado"
      ],
      "metadata": {
        "id": "fMhfoR48CNCs"
      }
    },
    {
      "cell_type": "code",
      "source": [
        "print(\"\\n--- Avaliação do Modelo Otimizado e BALANCEADO (RF com class_weight) ---\")\n",
        "\n",
        "# Pegamos o melhor pipeline encontrado e criamos uma nova versão com o class_weight ajustado.\n",
        "# Usamos .set_params() para alterar o hiperparâmetro do passo 'model' dentro do pipeline.\n",
        "balanced_model = search.best_estimator_\n",
        "balanced_model.set_params(model__class_weight='balanced')\n",
        "\n",
        "# Treinamos este novo modelo balanceado com os dados de treino\n",
        "balanced_model.fit(X_train, y_train)\n",
        "\n",
        "# Fazemos a previsão final no conjunto de teste\n",
        "y_pred_balanced = balanced_model.predict(X_test)\n",
        "\n",
        "# Exibimos os resultados\n",
        "print(classification_report(y_test, y_pred_balanced))\n",
        "ConfusionMatrixDisplay.from_estimator(balanced_model, X_test, y_test, cmap='Reds') # Usamos outra cor para diferenciar\n",
        "plt.title(\"Matriz de Confusão - Modelo Balanceado (RF)\")\n",
        "plt.show()"
      ],
      "metadata": {
        "colab": {
          "base_uri": "https://localhost:8080/",
          "height": 675
        },
        "id": "b2BKf4hRCXL9",
        "outputId": "ae79e085-315d-4403-aabe-18b72ec9eb3c"
      },
      "execution_count": null,
      "outputs": [
        {
          "output_type": "stream",
          "name": "stdout",
          "text": [
            "\n",
            "--- Avaliação do Modelo Otimizado e BALANCEADO (RF com class_weight) ---\n",
            "              precision    recall  f1-score   support\n",
            "\n",
            "           0       0.99      0.87      0.93      1933\n",
            "           1       0.19      0.85      0.30        67\n",
            "\n",
            "    accuracy                           0.87      2000\n",
            "   macro avg       0.59      0.86      0.62      2000\n",
            "weighted avg       0.97      0.87      0.91      2000\n",
            "\n"
          ]
        },
        {
          "output_type": "display_data",
          "data": {
            "text/plain": [
              "<Figure size 640x480 with 2 Axes>"
            ],
            "image/png": "[encoded data removed]"
          },
          "metadata": {}
        }
      ]
    },
    {
      "cell_type": "markdown",
      "source": [
        "A análise comparativa das matrizes de confusão do baseline e do modelo otimizado revela que ambos apresentam um desafio similar: uma baixa capacidade de identificar a classe minoritária, apesar da alta acurácia geral.\n",
        "\n",
        "Ao utilizarmos a técnica de balanceamento, dando mais pesos para erros da classe minoriotária, o modelo melhora na identificação desse target, mas tem menor precisão geral."
      ],
      "metadata": {
        "id": "XUGCkcFASH8n"
      }
    },
    {
      "cell_type": "markdown",
      "source": [
        "## 9. Engenharia de atributos"
      ],
      "metadata": {
        "id": "3jwXxE6FLM3-"
      }
    },
    {
      "cell_type": "markdown",
      "source": [
        "Para este projeto, a engenharia de atributos consistiu em duas etapas principais:\n",
        "\n",
        "Seleção de Atributos: Selecionamos as variáveis ['Employed', 'Bank Balance', 'Annual Salary'] como features preditivas. A coluna Index foi removida por não conter valor informacional para o modelo.\n",
        "\n",
        "Padronização de Escala (StandardScaler): Como as features numéricas possuem escalas muito diferentes (Salário vs. Empregado), aplicamos a padronização para garantir que nenhuma variável domine o processo de treinamento indevidamente. Esta etapa foi encapsulada em um pipeline para evitar vazamento de dados."
      ],
      "metadata": {
        "id": "3PHFe6NpLS1c"
      }
    },
    {
      "cell_type": "markdown",
      "source": [
        "## 10. Boas práticas e rastreabilidade"
      ],
      "metadata": {
        "id": "-rD9p4JYKtG-"
      }
    },
    {
      "cell_type": "markdown",
      "source": [
        "Ao longo do projeto, seguimos as seguintes boas práticas:\n",
        "\n",
        "Baseline Claro: Utilizamos a Regressão Logística como um modelo baseline simples e interpretável para estabelecer um ponto de partida de performance.\n",
        "\n",
        "Uso de Pipelines: Todas as etapas de pré-processamento e modelagem foram encapsuladas em pipelines do Scikit-learn. Isso garantiu a reprodutibilidade e, mais importante, evitou o vazamento de dados (data leakage) do conjunto de teste para o de treino.\n",
        "\n",
        "Decisões Documentadas: Todas as decisões importantes, como a escolha da validação cruzada sobre a divisão simples para a seleção de modelos e a escolha do F1-score como métrica de otimização devido ao desbalanceamento de classes, foram documentadas e justificadas nas seções apropriadas."
      ],
      "metadata": {
        "id": "XaC0iAf5K8ew"
      }
    },
    {
      "cell_type": "markdown",
      "source": [
        "## 11. Conclusões e próximos passos"
      ],
      "metadata": {
        "id": "jqsdg_WU7G8r"
      }
    },
    {
      "cell_type": "markdown",
      "source": [
        "O projeto apresenta um potencial de aprimoramento nos processos de uma empresa em início de operação ou considerada pequena, que não faça uso de modelos preditivos em seus processos, porém o modelo apresenta limitações com base na quantidade de atributos disponíveis, sendo necessário uma quantidade maior de variáveis para que possa ser obtido uma maior assertividade e de fato aplicado de forma profissional.\n",
        "\n",
        "A discrepância entre classes leva a uma complexidade em lidar com uma base de poucos atributos, tornando mais difícil para o modelo ser preciso nas acusações da classe com baixa porcentagem de aparição. O modelo se torna enviesado pela discrepância e pode simplesmente \"chutar\" o \"target\" de maior aparição e ainda sim, acertar +95% das vezes, porém é aí que está a dificuldade do modelo, acertar as classes que representam menos de 5% do total.\n",
        "\n",
        "A comparação final entre os 3 modelos revelou um trade-off entre a segurança financeira da empresa e a experiência do cliente.\n",
        "\n",
        "Conclui-se que embora a metodologia de machine learning seja promissora, a escoha do modelo a ser implementado depende diretamente da estratégia de negócio da empresa ou ainda uma necessidade de análises mais complexas ou incremento de informações na própria base de dados para podermos garantir que ele funcione como esperado em uma possível generalização.\n",
        "\n",
        "Para a evolução do projeto, é recomendado como ponto de partida:\n",
        "> Utilizar dados reais: Visando garantir a generalização, o próximo passo é replicar o modelo utilizando o histórico de dados reais de financiamento de uma empresa, captando informações mais pessoais do que genéricas de um dataset público.\n",
        "\n",
        "> Enriquecer a base de dados com novos atributos relevantes para análise de crédito, como por exemplo:\n",
        "* Histórico de crédito do cliente\n",
        "* Score do CPF\n",
        "* Valor e modelo do veículo financiado\n",
        "* Parcela pretendida\n",
        "\n",
        "> Para melhorar a precisão na captura da classe minoritária, apesar da discrepância, pode-se utilizar técnicas como o ajuste de pesos do modelo (class_weight, testado no modelo) buscando um \"meio-termo\" ou a criação de dados sintéticos (ex: SMOTE)."
      ],
      "metadata": {
        "id": "pWyKgRGV7OpD"
      }
    },
    {
      "cell_type": "markdown",
      "source": [
        "## 12: Salvando Artefatos (Modelos e Pipeline)"
      ],
      "metadata": {
        "id": "rAEa8x7eLiXX"
      }
    },
    {
      "cell_type": "code",
      "source": [
        "# Salva o pipeline completo em um arquivo .pkl\n",
        "joblib.dump(best_model_optimized, 'modelo_financiamento_v1.pkl')\n",
        "\n",
        "print(\"Modelo final salvo com sucesso em 'modelo_financiamento_v1.pkl'\")\n",
        "\n",
        "# Para carregar o modelo no futuro, você usaria:\n",
        "#loaded_model = joblib.load('modelo_financiamento_v1.pkl')\n",
        "#print(\"Modelo carregado com sucesso.\")"
      ],
      "metadata": {
        "colab": {
          "base_uri": "https://localhost:8080/"
        },
        "id": "Dj4Qi7wcLoDd",
        "outputId": "f62ab1c3-4fbb-4886-f01a-d7d6900a2d88"
      },
      "execution_count": null,
      "outputs": [
        {
          "output_type": "stream",
          "name": "stdout",
          "text": [
            "Modelo final salvo com sucesso em 'modelo_financiamento_v1.pkl'\n",
            "Modelo carregado com sucesso.\n"
          ]
        }
      ]
    }
  ]
}